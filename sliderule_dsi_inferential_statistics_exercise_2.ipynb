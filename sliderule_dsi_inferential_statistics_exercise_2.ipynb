{
 "cells": [
  {
   "cell_type": "markdown",
   "metadata": {},
   "source": [
    "# Examining Racial Discrimination in the US Job Market\n",
    "\n",
    "### Background\n",
    "Racial discrimination continues to be pervasive in cultures throughout the world. Researchers examined the level of racial discrimination in the United States labor market by randomly assigning identical résumés to black-sounding or white-sounding names and observing the impact on requests for interviews from employers.\n",
    "\n",
    "### Data\n",
    "In the dataset provided, each row represents a resume. The 'race' column has two values, 'b' and 'w', indicating black-sounding and white-sounding. The column 'call' has two values, 1 and 0, indicating whether the resume received a call from employers or not.\n",
    "\n",
    "Note that the 'b' and 'w' values in race are assigned randomly to the resumes when presented to the employer."
   ]
  },
  {
   "cell_type": "markdown",
   "metadata": {},
   "source": [
    "\n",
    "### Exercises\n",
    "You will perform a statistical analysis to establish whether race has a significant impact on the rate of callbacks for resumes.\n",
    "\n",
    "Answer the following questions **in this notebook below and submit to your Github account**. \n",
    "\n",
    "   1. What test is appropriate for this problem? Does CLT apply?\n",
    "   2. What are the null and alternate hypotheses?\n",
    "   3. Compute margin of error, confidence interval, and p-value. Try using both the bootstrapping and the frequentist statistical approaches.\n",
    "   4. Write a story describing the statistical significance in the context or the original problem.\n",
    "   5. Does your analysis mean that race/name is the most important factor in callback success? Why or why not? If not, how would you amend your analysis?\n",
    "\n",
    "You can include written notes in notebook cells using Markdown: \n",
    "   - In the control panel at the top, choose Cell > Cell Type > Markdown\n",
    "   - Markdown syntax: http://nestacms.com/docs/creating-content/markdown-cheat-sheet\n",
    "\n",
    "\n",
    "#### Resources\n",
    "+ Experiment information and data source: http://www.povertyactionlab.org/evaluation/discrimination-job-market-united-states\n",
    "+ Scipy statistical methods: http://docs.scipy.org/doc/scipy/reference/stats.html \n",
    "+ Markdown syntax: http://nestacms.com/docs/creating-content/markdown-cheat-sheet\n",
    "+ Formulas for the Bernoulli distribution: https://en.wikipedia.org/wiki/Bernoulli_distribution\n",
    "</div>\n",
    "****"
   ]
  },
  {
   "cell_type": "code",
   "execution_count": 78,
   "metadata": {},
   "outputs": [],
   "source": [
    "import pandas as pd\n",
    "import numpy as np\n",
    "from scipy import stats"
   ]
  },
  {
   "cell_type": "code",
   "execution_count": 79,
   "metadata": {},
   "outputs": [],
   "source": [
    "data = pd.io.stata.read_stata('data/us_job_market_discrimination.dta')"
   ]
  },
  {
   "cell_type": "code",
   "execution_count": 80,
   "metadata": {},
   "outputs": [
    {
     "data": {
      "text/plain": [
       "235.0"
      ]
     },
     "execution_count": 80,
     "metadata": {},
     "output_type": "execute_result"
    }
   ],
   "source": [
    "# number of callbacks for black-sounding names\n",
    "sum(data[data.race=='w'].call)"
   ]
  },
  {
   "cell_type": "code",
   "execution_count": 81,
   "metadata": {},
   "outputs": [
    {
     "data": {
      "application/vnd.jupyter.widget-view+json": {
       "model_id": "108a322e92dc4cc7820586a42611ce8f",
       "version_major": 2,
       "version_minor": 0
      }
     },
     "metadata": {},
     "output_type": "display_data"
    }
   ],
   "source": [
    "data.head()"
   ]
  },
  {
   "cell_type": "markdown",
   "metadata": {
    "collapsed": true
   },
   "source": [
    "****\n",
    "****\n",
    "\n",
    "## Solution by Jonas Cuadrado\n",
    "\n",
    "July 18, 2018\n",
    "\n",
    "### 1. Test and CLT\n",
    "\n",
    "We want to determine if the call back rate for white and black people is the same. This is equivalent to determining if two coins have the same head-tails probabilities, given a run of flips for each. Therefore, we need to perform a 2-sample t-test.\n",
    "\n",
    "CLT does not apply to the individual probabilities, as we are dealing with discrete distributions. **However**, it does apply to the difference in call-back rate, since it is a continuous variable and we have over 30 samples.\n",
    "\n",
    "\n",
    "### 2. H_0 and H_A\n",
    "\n",
    "We will take the null hypothesis as: \"There is the same call back rate for the two groups\", and the alternative as \"Black people are called back LESS than white people (therefore, they are discriminated)\"\n",
    "\n",
    "### 3. Evaluation of the data\n",
    "\n",
    "Let's have a look at the data first in a general sense"
   ]
  },
  {
   "cell_type": "code",
   "execution_count": 89,
   "metadata": {},
   "outputs": [
    {
     "name": "stdout",
     "output_type": "stream",
     "text": [
      "MEAN Call back rate =  0.08049281314168377\n",
      "WHITE Call back rate =  0.09650924024640657\n",
      "BLACK Call back rate =  0.06447638603696099\n",
      "Difference =  0.032032854209445585\n"
     ]
    }
   ],
   "source": [
    "ambos = data[['race','call']]\n",
    "w = ambos[ambos.race=='w']\n",
    "b = ambos[ambos.race=='b']\n",
    "\n",
    "cbrW = w.call.sum()/w.call.count()\n",
    "cbrB = b.call.sum()/b.call.count()\n",
    "\n",
    "print('MEAN Call back rate = ', ambos.call.sum()/ambos.call.count())\n",
    "print('WHITE Call back rate = ', cbrW)\n",
    "print('BLACK Call back rate = ', cbrB)\n",
    "print('Difference = ', abs(cbrW-cbrB))"
   ]
  },
  {
   "cell_type": "markdown",
   "metadata": {},
   "source": [
    "The difference in call back rates is 3%, or about half of the call back rate seen by black applicants.\n",
    "\n",
    "This value may be statistically significant. first, we can use the frequentist approach:"
   ]
  },
  {
   "cell_type": "code",
   "execution_count": 83,
   "metadata": {},
   "outputs": [
    {
     "name": "stdout",
     "output_type": "stream",
     "text": [
      "Margin of error of the difference =  0.015255406349886438\n",
      "Confidence interval:  [0.016777447859559147, 0.047288260559332024]\n",
      "p-value: 3.942941513645935e-05\n"
     ]
    }
   ],
   "source": [
    "# FREQUENSTIST/ANALYTICAL\n",
    "var_w = cbrW*(1-cbrW)/w.call.count()\n",
    "var_b = cbrB*(1-cbrB)/b.call.count()\n",
    "\n",
    "std_bw = np.sqrt(var_w+var_b)\n",
    "\n",
    "marginoferr = 1.96*std_bw\n",
    "print('Margin of error of the difference = ', marginoferr)\n",
    "\n",
    "print('Confidence interval: ', [abs(cbrW-cbrB)-marginoferr,abs(cbrW-cbrB)+marginoferr] )\n",
    "\n",
    "print('p-value:', stats.ttest_ind(b.call,w.call,equal_var=False).pvalue)"
   ]
  },
  {
   "cell_type": "markdown",
   "metadata": {},
   "source": [
    "Indeed, the p-value in less than 1%, so we should be able to reject the null hypothesis. Let's confirm this by running a bootstrap analysis of the data."
   ]
  },
  {
   "cell_type": "code",
   "execution_count": 84,
   "metadata": {},
   "outputs": [
    {
     "data": {
      "image/png": "[encoded data removed]",
      "text/plain": [
       "<matplotlib.figure.Figure at 0x7fece9fc7358>"
      ]
     },
     "metadata": {},
     "output_type": "display_data"
    },
    {
     "name": "stdout",
     "output_type": "stream",
     "text": [
      "Bootstrapped p-value:  8e-05\n"
     ]
    }
   ],
   "source": [
    "# BOOTSTRAPPING\n",
    "import matplotlib.pyplot as plt\n",
    "\n",
    "pdb = b.call.values\n",
    "pdw = w.call.values\n",
    "cbmerged = np.concatenate((pdb,pdw))\n",
    "\n",
    "numofbs = 25000\n",
    "bsdiffs = np.empty(numofbs)\n",
    "for i in range(numofbs):\n",
    "    bssample = np.random.permutation(cbmerged)\n",
    "    meancb1 = np.mean(bssample[:len(pdb)])\n",
    "    meancb2 = np.mean(bssample[len(pdb):])\n",
    "    bsdiffs[i] = abs(meancb2-meancb1)\n",
    "\n",
    "plt.hist(bsdiffs, bins=20, normed=True)\n",
    "plt.xlabel('difference')\n",
    "plt.ylabel('occurrences')\n",
    "plt.show()\n",
    "\n",
    "# to dins the p-value we need to find the occurrences above our\n",
    "print('Bootstrapped p-value: ', np.sum(bsdiffs>=abs(cbrW-cbrB))/numofbs)"
   ]
  },
  {
   "cell_type": "markdown",
   "metadata": {},
   "source": [
    "In both cases, the p-value is smaller than 1%, so there is enough significance to reject the null hypothesis: there is indeed discrimination. The values reported differ by a factor of 2, but that's because the bootstrap results find 2 occurrence in 25000. One can increase the iterations to obtain a more accurate result, although it is not necessary."
   ]
  },
  {
   "cell_type": "markdown",
   "metadata": {},
   "source": [
    "## Pre-5. Most important factors\n",
    "\n",
    "To see if there is a parameter that influences th call-back rate more than race, let's explore the correlation between 'call' and the other variables. However, we need to convert 'race' to a numerical value first."
   ]
  },
  {
   "cell_type": "code",
   "execution_count": 85,
   "metadata": {},
   "outputs": [
    {
     "name": "stdout",
     "output_type": "stream",
     "text": [
      "call             1.000000\n",
      "specialskills    0.111074\n",
      "honors           0.071951\n",
      "empholes         0.071888\n",
      "adid             0.063178\n",
      "yearsexp         0.061436\n",
      "race             0.058872\n",
      "linc             0.049649\n",
      "offsupport       0.047783\n",
      "lmedhhinc        0.047699\n",
      "Name: call, dtype: float64\n"
     ]
    }
   ],
   "source": [
    "data2 = data.copy()\n",
    "data2['race'] = data2['race'].map({'w': 1, 'b': 0})\n",
    "\n",
    "# I can look at the correlation matrix...\n",
    "print(data2.corr().loc['call'].sort_values(ascending=False).head(10))"
   ]
  },
  {
   "cell_type": "markdown",
   "metadata": {},
   "source": [
    "We observe that 'special skills' has the highest degree of correlation with call-backs, followed by 'honors'. Education does not even appear here. When we look at the rates in a pivot table, we see a larger difference between the call-back rates on those variables than on race, usually a factor of 2. However, as expected, the education label does not see such variability. This allos us to confirm that race is important, but not the most important factor in call-back rates"
   ]
  },
  {
   "cell_type": "code",
   "execution_count": 88,
   "metadata": {},
   "outputs": [
    {
     "name": "stdout",
     "output_type": "stream",
     "text": [
      "\n",
      "Call back rate comparison: specialskills vs race\n",
      "\n",
      "                   call          \n",
      "race                  b         w\n",
      "specialskills                    \n",
      "0              0.047619  0.071122\n",
      "1              0.099122  0.148010\n",
      "\n",
      "Call back rate comparison: honors vs race\n",
      "\n",
      "            call          \n",
      "race           b         w\n",
      "honors                    \n",
      "0       0.061039  0.090751\n",
      "1       0.128000  0.196970\n",
      "\n",
      "Call back rate comparison: education vs race\n",
      "\n",
      "               call          \n",
      "race              b         w\n",
      "education                    \n",
      "0          0.107143  0.000000\n",
      "1          0.090909  0.055556\n",
      "2          0.068182  0.112676\n",
      "3          0.058824  0.107212\n",
      "4          0.064773  0.093463\n"
     ]
    }
   ],
   "source": [
    "pt_specialskills = pd.pivot_table(data,values=['call'],index=['specialskills'],columns=['race'],aggfunc=np.mean)\n",
    "print('\\nCall back rate comparison: specialskills vs race\\n')\n",
    "print(pt_specialskills)\n",
    "\n",
    "pt_honors = pd.pivot_table(data,values=['call'],index=['honors'],columns=['race'],aggfunc=np.mean)\n",
    "print('\\nCall back rate comparison: honors vs race\\n')\n",
    "print(pt_honors)\n",
    "\n",
    "pt_education = pd.pivot_table(data,values=['call'],index=['education'],columns=['race'],aggfunc=np.mean)\n",
    "print('\\nCall back rate comparison: education vs race\\n')\n",
    "print(pt_education)\n",
    "\n"
   ]
  },
  {
   "cell_type": "markdown",
   "metadata": {},
   "source": [
    "### 4 and 5. Report\n",
    "\n",
    "The data shows evidence that race plays an important role in the call-back rate of job applications. In particular, applicants labelled as black receive on average about 33% less call backs than whites. This value is statistically significant since the probability of randomly finding a similar response is less than 1 in 25000. In other words, there is over 99% confidence that black applicants are discriminated against.\n",
    "\n",
    "However, this does not mean that race is the most important factor in callback success. In fact, applicants with special skills for the position, or honor mentions, are about twice as likely to be called back than those who lack them, regardless of race. The level of education, in contrast, is less correlated to be contacted back than race. In order to have a better insight into this we would need deeper analysis of the data.\n"
   ]
  }
 ],
 "metadata": {
  "kernelspec": {
   "display_name": "Python 3",
   "language": "python",
   "name": "python3"
  },
  "language_info": {
   "codemirror_mode": {
    "name": "ipython",
    "version": 3
   },
   "file_extension": ".py",
   "mimetype": "text/x-python",
   "name": "python",
   "nbconvert_exporter": "python",
   "pygments_lexer": "ipython3",
   "version": "3.6.4"
  },
  "toc": {
   "base_numbering": 1,
   "nav_menu": {},
   "number_sections": false,
   "sideBar": false,
   "skip_h1_title": false,
   "title_cell": "Table of Contents",
   "title_sidebar": "Contents",
   "toc_cell": false,
   "toc_position": {},
   "toc_section_display": false,
   "toc_window_display": false
  }
 },
 "nbformat": 4,
 "nbformat_minor": 1
}
