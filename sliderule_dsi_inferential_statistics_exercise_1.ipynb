{
 "cells": [
  {
   "cell_type": "markdown",
   "metadata": {},
   "source": [
    "# What is the True Normal Human Body Temperature? \n",
    "\n",
    "#### Background\n",
    "\n",
    "The mean normal body temperature was held to be 37$^{\\circ}$C or 98.6$^{\\circ}$F for more than 120 years since it was first conceptualized and reported by Carl Wunderlich in a famous 1868 book. But, is this value statistically correct?"
   ]
  },
  {
   "cell_type": "markdown",
   "metadata": {},
   "source": [
    "<h3>Exercises</h3>\n",
    "\n",
    "<p>In this exercise, you will analyze a dataset of human body temperatures and employ the concepts of hypothesis testing, confidence intervals, and statistical significance.</p>\n",
    "\n",
    "<p>Answer the following questions <b>in this notebook below and submit to your Github account</b>.</p> \n",
    "\n",
    "<ol>\n",
    "<li>  Is the distribution of body temperatures normal? \n",
    "    <ul>\n",
    "    <li> Although this is not a requirement for the Central Limit Theorem to hold (read the introduction on Wikipedia's page about the CLT carefully: https://en.wikipedia.org/wiki/Central_limit_theorem), it gives us some peace of mind that the population may also be normally distributed if we assume that this sample is representative of the population.\n",
    "    <li> Think about the way you're going to check for the normality of the distribution. Graphical methods are usually used first, but there are also other ways: https://en.wikipedia.org/wiki/Normality_test\n",
    "    </ul>\n",
    "<li>  Is the sample size large? Are the observations independent?\n",
    "    <ul>\n",
    "    <li> Remember that this is a condition for the Central Limit Theorem, and hence the statistical tests we are using, to apply.\n",
    "    </ul>\n",
    "<li>  Is the true population mean really 98.6 degrees F?\n",
    "    <ul>\n",
    "    <li> First, try a bootstrap hypothesis test.\n",
    "    <li> Now, let's try frequentist statistical testing. Would you use a one-sample or two-sample test? Why?\n",
    "    <li> In this situation, is it appropriate to use the $t$ or $z$ statistic? \n",
    "    <li> Now try using the other test. How is the result be different? Why?\n",
    "    </ul>\n",
    "<li>  Draw a small sample of size 10 from the data and repeat both frequentist tests. \n",
    "    <ul>\n",
    "    <li> Which one is the correct one to use? \n",
    "    <li> What do you notice? What does this tell you about the difference in application of the $t$ and $z$ statistic?\n",
    "    </ul>\n",
    "<li>  At what temperature should we consider someone's temperature to be \"abnormal\"?\n",
    "    <ul>\n",
    "    <li> As in the previous example, try calculating everything using the boostrap approach, as well as the frequentist approach.\n",
    "    <li> Start by computing the margin of error and confidence interval. When calculating the confidence interval, keep in mind that you should use the appropriate formula for one draw, and not N draws.\n",
    "    </ul>\n",
    "<li>  Is there a significant difference between males and females in normal temperature?\n",
    "    <ul>\n",
    "    <li> What testing approach did you use and why?\n",
    "    <li> Write a story with your conclusion in the context of the original problem.\n",
    "    </ul>\n",
    "</ol>\n",
    "\n",
    "You can include written notes in notebook cells using Markdown: \n",
    "   - In the control panel at the top, choose Cell > Cell Type > Markdown\n",
    "   - Markdown syntax: http://nestacms.com/docs/creating-content/markdown-cheat-sheet\n",
    "\n",
    "#### Resources\n",
    "\n",
    "+ Information and data sources: http://www.amstat.org/publications/jse/datasets/normtemp.txt, http://www.amstat.org/publications/jse/jse_data_archive.htm\n",
    "+ Markdown syntax: http://nestacms.com/docs/creating-content/markdown-cheat-sheet\n",
    "\n",
    "****"
   ]
  },
  {
   "cell_type": "markdown",
   "metadata": {},
   "source": [
    "# Solutions by Jonas Cuadrado\n",
    "\n",
    "July 17, 2018"
   ]
  },
  {
   "cell_type": "code",
   "execution_count": 1,
   "metadata": {
    "scrolled": true
   },
   "outputs": [],
   "source": [
    "import pandas as pd\n",
    "\n",
    "df = pd.read_csv('data/human_body_temperature.csv')"
   ]
  },
  {
   "cell_type": "markdown",
   "metadata": {
    "collapsed": true
   },
   "source": [
    "We should start with some exploratory data analysis, preferably graphical. How large is the sample? Are we reading the information correctly?"
   ]
  },
  {
   "cell_type": "code",
   "execution_count": 2,
   "metadata": {},
   "outputs": [
    {
     "name": "stdout",
     "output_type": "stream",
     "text": [
      "Head of the dataframe\n",
      "   temperature gender  heart_rate\n",
      "0         99.3      F        68.0\n",
      "1         98.4      F        81.0\n",
      "2         97.8      M        73.0\n",
      "3         99.2      F        66.0\n",
      "4         98.0      F        73.0\n",
      "Dataframe statistics\n",
      "       temperature  heart_rate\n",
      "count   130.000000  130.000000\n",
      "mean     98.249231   73.761538\n",
      "std       0.733183    7.062077\n",
      "min      96.300000   57.000000\n",
      "25%      97.800000   69.000000\n",
      "50%      98.300000   74.000000\n",
      "75%      98.700000   79.000000\n",
      "max     100.800000   89.000000\n"
     ]
    }
   ],
   "source": [
    "print(\"Head of the dataframe\")\n",
    "print(df.head())\n",
    "\n",
    "print(\"Dataframe statistics\")\n",
    "print(df.describe())"
   ]
  },
  {
   "cell_type": "markdown",
   "metadata": {},
   "source": [
    "It seems the import went well, the dataset is rather small, only has 130 rows. It doesn't seems as a representative  sample of the 7 billion people in the world, but we should work with what we have.\n",
    "\n",
    "### 1. Normality\n",
    "\n",
    "To assess if we have a normal distribution of temperatures we will plot the empirical cumulative distribution function, and we will use both the D’Agostino and Pearson’s and the Shapiro-Wilk tests."
   ]
  },
  {
   "cell_type": "code",
   "execution_count": 3,
   "metadata": {
    "scrolled": true
   },
   "outputs": [
    {
     "data": {
      "text/plain": [
       "<matplotlib.figure.Figure at 0x7f69d3b43f98>"
      ]
     },
     "metadata": {},
     "output_type": "display_data"
    }
   ],
   "source": [
    "import numpy as np\n",
    "import matplotlib.pyplot as plt\n",
    "import matplotlib.mlab as mlab\n",
    "\n",
    "# start plotting a histogram with the normal pdf on top\n",
    "# histogram\n",
    "plt.hist(df.temperature, bins=20, normed=True)\n",
    "# normal\n",
    "x = np.linspace(np.floor(min(df.temperature)), np.floor(max(df.temperature))+1, 100)\n",
    "plt.plot(x,mlab.normpdf(x, np.mean(df.temperature), np.sqrt(np.var(df.temperature))))\n",
    "# complete the graph\n",
    "plt.xlabel(\"Temperature [ºF]\")\n",
    "plt.ylabel(\"pdf\")\n",
    "plt.show()\n",
    "\n"
   ]
  },
  {
   "cell_type": "markdown",
   "metadata": {},
   "source": [
    "By eye it doesn't look very normal, but the tails ar not too heavy, so it could be normal. LEt's look at the ECDF"
   ]
  },
  {
   "cell_type": "code",
   "execution_count": 4,
   "metadata": {},
   "outputs": [
    {
     "data": {
      "image/png": "[encoded data removed]",
      "text/plain": [
       "<matplotlib.figure.Figure at 0x7f69d4402b38>"
      ]
     },
     "metadata": {},
     "output_type": "display_data"
    }
   ],
   "source": [
    "# make the cumulative distribution function and plot it along with the normal one\n",
    "\n",
    "# I can use a function described in datacamp to simplify the process...\n",
    "def ecdf(data):\n",
    "    \"\"\"1D empirical cumulative prob distr fun\"\"\"\n",
    "    n = len(data)\n",
    "    x = np.sort(data)\n",
    "    y = np.arange(1, n+1) / n\n",
    "    return x, y\n",
    "\n",
    "# MAIN\n",
    "xecdf, yecdf = ecdf(df.temperature)\n",
    "theordataset = np.random.normal(np.mean(df.temperature), np.sqrt(np.var(df.temperature)),25000)\n",
    "xth, yth = ecdf(theordataset)\n",
    "# plot\n",
    "plt.plot(xecdf, yecdf, '.')\n",
    "plt.plot(xth, yth)\n",
    "plt.xlabel('Temperature [ºF]')\n",
    "plt.ylabel('ECDF')\n",
    "#plt.legend(['Empirical data','Theoretical CDF for a normal with max-likelihood parameters'])\n",
    "plt.show()"
   ]
  },
  {
   "cell_type": "markdown",
   "metadata": {},
   "source": [
    "It actually looks much more normal than before! Let's perform the two aforementioned tests... "
   ]
  },
  {
   "cell_type": "code",
   "execution_count": 5,
   "metadata": {},
   "outputs": [
    {
     "name": "stdout",
     "output_type": "stream",
     "text": [
      "p-value for Shapiro-Wilk normality test (large p => normally distributed)\n",
      "0.233174666762352\n",
      "\n",
      "\n",
      "p-value for D’Agostino and Pearson’s normality test (large p => normally distributed)\n",
      "0.2587479863488254\n"
     ]
    }
   ],
   "source": [
    "from scipy import stats\n",
    "\n",
    "print('p-value for Shapiro-Wilk normality test (large p => normally distributed)')\n",
    "print(stats.shapiro(df.temperature)[1])\n",
    "\n",
    "print('\\n')\n",
    "print('p-value for D’Agostino and Pearson’s normality test (large p => normally distributed)')\n",
    "print(stats.normaltest(df.temperature).pvalue)"
   ]
  },
  {
   "cell_type": "markdown",
   "metadata": {},
   "source": [
    "According to both tests, there is not enough evidence to discard the null hypothesis: the sample could be normal. We observe a p-value close to 25% in each case."
   ]
  },
  {
   "cell_type": "markdown",
   "metadata": {},
   "source": [
    "### 2. Size and independence\n",
    "\n",
    "We have seen already that we have 130 samples. This is large enough for the CLT, as usually 30 measures are essentially normal, but it is NOT a large sample if we aim to estimate the body temperature with a 95% cnfidence interval of +/- 0.1 ºF. Indeed, we can estimate the sample size n assuming a normal distribution as follows"
   ]
  },
  {
   "cell_type": "code",
   "execution_count": 6,
   "metadata": {},
   "outputs": [
    {
     "name": "stdout",
     "output_type": "stream",
     "text": [
      "853.4759763313598\n"
     ]
    }
   ],
   "source": [
    "# width of confidence interval\n",
    "W = 0.1\n",
    "# std of distribution\n",
    "sigma=np.std(df.temperature)\n",
    "# sample size\n",
    "n = (4*sigma/W)**2\n",
    "print(n)"
   ]
  },
  {
   "cell_type": "markdown",
   "metadata": {},
   "source": [
    "We need over 850 samples. But we can have a 0.3 ºF interval with the current data.\n",
    "\n",
    "To look at the independence, we don't have much additional information to test that. If the heart rate is independent of the temperature we shouldn't see a trend between the two variables, but that assumption cannot be made. What we can see if there are two identical points, or poits that follow a path: that could indicate non-independence"
   ]
  },
  {
   "cell_type": "code",
   "execution_count": 7,
   "metadata": {},
   "outputs": [
    {
     "data": {
      "image/png": "[encoded data removed]",
      "text/plain": [
       "<matplotlib.figure.Figure at 0x7f69d3b43a90>"
      ]
     },
     "metadata": {},
     "output_type": "display_data"
    }
   ],
   "source": [
    "# plot both datasets\n",
    "\n",
    "plt.scatter(df.temperature, df.heart_rate)\n",
    "plt.xlabel('Temp [ºF]')\n",
    "plt.ylabel('Heart rate')\n",
    "plt.show()"
   ]
  },
  {
   "cell_type": "code",
   "execution_count": 8,
   "metadata": {},
   "outputs": [
    {
     "name": "stdout",
     "output_type": "stream",
     "text": [
      "     temperature gender  heart_rate\n",
      "75          98.8      M        78.0\n",
      "87          98.0      M        78.0\n",
      "127         98.2      F        73.0\n"
     ]
    }
   ],
   "source": [
    "# are there any duplicates?\n",
    "print(df[df.duplicated()])"
   ]
  },
  {
   "cell_type": "markdown",
   "metadata": {},
   "source": [
    "Here, conclude somethign about the independence...\n",
    "We don't know if the samples are from different people, or the same person is taken several time at different times. They are probably not fully independent as there are repeated rows. But not many. We need more info.\n",
    "\n",
    "We will take it as independent regardless! Otherwise there's not much we can do\n",
    "\n",
    "### 3. What's the real mean?\n",
    "\n",
    "First, we can look at the mean of the data. Then, we should bootstrap to see if it is sensible."
   ]
  },
  {
   "cell_type": "code",
   "execution_count": 9,
   "metadata": {},
   "outputs": [
    {
     "name": "stdout",
     "output_type": "stream",
     "text": [
      "Sample mean\n",
      "98.24923076923078\n",
      "95% confidence interval\n",
      "[98.12076923 98.37307692]\n",
      "99% confidence interval\n",
      "[98.08153077 98.41154231]\n"
     ]
    },
    {
     "data": {
      "image/png": "[encoded data removed]",
      "text/plain": [
       "<matplotlib.figure.Figure at 0x7f69be4989e8>"
      ]
     },
     "metadata": {},
     "output_type": "display_data"
    }
   ],
   "source": [
    "print('Sample mean')\n",
    "print(np.mean(df.temperature))\n",
    "\n",
    "# bootstrapping\n",
    "numbs = 10000\n",
    "means = np.empty(numbs)\n",
    "for i in range(numbs):\n",
    "    bssample = np.random.choice(df.temperature, df.temperature.size)\n",
    "    means[i] = np.mean(bssample)\n",
    "print('95% confidence interval')\n",
    "print(np.percentile(means,[2.5, 97.5]))\n",
    "print('99% confidence interval')\n",
    "print(np.percentile(means,[0.5, 99.5]))\n",
    "\n",
    "plt.hist(means,bins=25,normed=True)\n",
    "plt.xlabel('Temperature [ºF]')\n",
    "plt.ylabel('Normed counts from bootstraped sampling')\n",
    "plt.show()"
   ]
  },
  {
   "cell_type": "markdown",
   "metadata": {},
   "source": [
    "It is very clear that the temperature is NOT 98.6 ºF, as it is very far from the sampled data. In fact, the there is less than 1 in 10000 cases in which we could obtain such a mean temperature from the data, which means that the p-value for the hypothesis \"The mean of the sample could be 98.6 ºF\" is less than 0.01%. Therefore, there is enough evidence to discard that hypothesis"
   ]
  },
  {
   "cell_type": "markdown",
   "metadata": {},
   "source": [
    "To determine this using proper statistics we should use a 1-sample test. There is only one dataset, and we are comparing it to an aggregate statistic from a theoretical prediction. Moreover, we do not have an expectation for what the variance of the real distribution should be, so we need to use a one-sample t-test statistic"
   ]
  },
  {
   "cell_type": "code",
   "execution_count": 10,
   "metadata": {},
   "outputs": [
    {
     "name": "stdout",
     "output_type": "stream",
     "text": [
      "t statistic = -5.475925202078116\n",
      "Degrees of freedom: 129\n",
      "p-value = 1.0026408051946806e-06\n"
     ]
    }
   ],
   "source": [
    "# one-sample t-test\n",
    "\n",
    "mu0 = 98.6\n",
    "mus = np.mean(df.temperature)\n",
    "div = np.std(df.temperature)/np.sqrt(df.temperature.size)\n",
    "print ('t statistic =', (mus - mu0)/div)\n",
    "\n",
    "print('Degrees of freedom:', df.temperature.size-1)\n",
    "\n",
    "# p-value...\n",
    "print('p-value =', 2*stats.t.pdf((mus - mu0)/div, df.temperature.size-1))"
   ]
  },
  {
   "cell_type": "markdown",
   "metadata": {},
   "source": [
    "So indeed there is a lot of strength in saying that the mean body temperature is NOT 98.6 ºF\n",
    "If we tried the z-test, we would obtain a very similar value because of two reasons: first, we would need to assume the real standard deviation to be the empirical one, and second, a Student's distribution with over 100 degrees of freedom is very similar to a normal. So..."
   ]
  },
  {
   "cell_type": "code",
   "execution_count": 11,
   "metadata": {},
   "outputs": [
    {
     "name": "stdout",
     "output_type": "stream",
     "text": [
      "z statistic = -5.475925202078116\n",
      "p-value = 2.4581914310682793e-07\n"
     ]
    }
   ],
   "source": [
    "# one-sample z-test\n",
    "\n",
    "print ('z statistic =', (mus - mu0)/div)\n",
    "# p-value...\n",
    "print('p-value =', 2*stats.norm.pdf((mus - mu0)/div))"
   ]
  },
  {
   "cell_type": "markdown",
   "metadata": {},
   "source": [
    "### 4. Small sample\n",
    "\n",
    "For a sample of size 10 there would be a greater difference between the p-values: a small sample has a higher probability of finding an extreme vale, as the tails of a Student's t are heavier for low dof. LEt's look at how both change"
   ]
  },
  {
   "cell_type": "code",
   "execution_count": 12,
   "metadata": {},
   "outputs": [
    {
     "name": "stdout",
     "output_type": "stream",
     "text": [
      "t statistic = -1.6450370593201415\n",
      "Degrees of freedom: 9\n",
      "p-value = 0.20846996190316056\n",
      "z statistic = -1.6450370593201415\n",
      "p-value = 0.2062090506230799\n"
     ]
    }
   ],
   "source": [
    "#subsample\n",
    "np.random.seed(42)\n",
    "subsample = np.random.choice(df.temperature, replace=False, size=10)\n",
    "\n",
    "# one-sample t-test\n",
    "mu0 = 98.6\n",
    "mus = np.mean(subsample)\n",
    "div = np.std(subsample)/np.sqrt(10)\n",
    "print ('t statistic =', (mus - mu0)/div)\n",
    "print('Degrees of freedom:', 9)\n",
    "\n",
    "# p-value...\n",
    "print('p-value =', 2*stats.t.pdf((mus - mu0)/div, 9))\n",
    "\n",
    "# one-sample z-test\n",
    "print ('z statistic =', (mus - mu0)/div)\n",
    "# p-value...\n",
    "print('p-value =', 2*stats.norm.pdf((mus - mu0)/div))"
   ]
  },
  {
   "cell_type": "markdown",
   "metadata": {},
   "source": [
    "AS we observe, there is a higher probability that the actual temperature is 98.6 ºF. This evidences the importance of large enough datasets. In addition, the difference between the t and z statistics has increased, as the Student's t distirbution is now much further from the normal than before \n",
    "\n",
    "### 5. Abonormal temperature\n",
    "\n",
    "I will use the 3-sigma principle: if a measurement is  outside the 99.9% of the distribution, it is abnormal. Ww have the bootstrapped interval available already, we need to find as well the statistic approach."
   ]
  },
  {
   "cell_type": "code",
   "execution_count": 13,
   "metadata": {},
   "outputs": [
    {
     "name": "stdout",
     "output_type": "stream",
     "text": [
      "Bootstrapped 99.9% confidence interval\n",
      "[98.03538462 98.46000308]\n",
      "t-statistic 99.9% confidence interval\n",
      "[98.0570609251452, 98.44140061331636]\n"
     ]
    }
   ],
   "source": [
    "# from bootstrapped\n",
    "print('Bootstrapped 99.9% confidence interval')\n",
    "print(np.percentile(means,[0.05, 99.95]))\n",
    "\n",
    "# from t statistic\n",
    "mus = np.mean(df.temperature)\n",
    "div = np.std(df.temperature)/np.sqrt(df.temperature.size)\n",
    "print('t-statistic 99.9% confidence interval')\n",
    "print([mus-3*div,mus+3*div])"
   ]
  },
  {
   "cell_type": "markdown",
   "metadata": {},
   "source": [
    "Therefore, anything below 98.05 ºF and above 98.45 ºF can be considered abnormal."
   ]
  },
  {
   "cell_type": "markdown",
   "metadata": {},
   "source": [
    "### 6. Differences between M and F\n",
    "\n",
    "Let's look at the two datasets. Here, we need two-sample tests to determine if they are different or not. After some preliminary plots, we will try bootstrapping, then we will perform actual statistics"
   ]
  },
  {
   "cell_type": "code",
   "execution_count": 14,
   "metadata": {},
   "outputs": [
    {
     "name": "stdout",
     "output_type": "stream",
     "text": [
      "   temperature gender  heart_rate\n",
      "0         99.3      F        68.0\n",
      "1         98.4      F        81.0\n",
      "3         99.2      F        66.0\n",
      "4         98.0      F        73.0\n",
      "8         98.4      F        84.0\n",
      "    temperature gender  heart_rate\n",
      "2          97.8      M        73.0\n",
      "5          99.2      M        83.0\n",
      "6          98.0      M        71.0\n",
      "7          98.8      M        78.0\n",
      "12         98.2      M        72.0\n"
     ]
    },
    {
     "data": {
      "image/png": "[encoded data removed]",
      "text/plain": [
       "<matplotlib.figure.Figure at 0x7f69be498f28>"
      ]
     },
     "metadata": {},
     "output_type": "display_data"
    }
   ],
   "source": [
    "tempf = df[df.gender=='F']\n",
    "print(tempf.head())\n",
    "tempm = df[df.gender=='M']\n",
    "print(tempm.head())\n",
    "\n",
    "# ECDF of the two (we are not testing normality, but if they are the same)\n",
    "xm, ym = ecdf(tempm.temperature)\n",
    "xf, yf = ecdf(tempf.temperature)\n",
    "plt.plot(xm,ym, '.',color='blue')\n",
    "plt.plot(xf,yf, '.',color='red')\n",
    "plt.xlabel('Temperature [ºF]')\n",
    "plt.ylabel('ECDF')\n",
    "plt.show()"
   ]
  },
  {
   "cell_type": "markdown",
   "metadata": {},
   "source": [
    "The ECDF seems to indicate that the means are different, with the male lower than the female, and so are the tails, but it's not definitive. Let's look at it in detail with bootstrapping"
   ]
  },
  {
   "cell_type": "code",
   "execution_count": 15,
   "metadata": {},
   "outputs": [
    {
     "name": "stdout",
     "output_type": "stream",
     "text": [
      "Empirical difference of T =  -0.289230769230727\n",
      "p-value = 0.0105\n"
     ]
    },
    {
     "data": {
      "image/png": "[encoded data removed]",
      "text/plain": [
       "<matplotlib.figure.Figure at 0x7f69be435080>"
      ]
     },
     "metadata": {},
     "output_type": "display_data"
    }
   ],
   "source": [
    "# empirical difference in mean:\n",
    "diff_fm_means = np.mean(tempm.temperature)-np.mean(tempf.temperature)\n",
    "numf = tempf.temperature.size\n",
    "numm = tempm.temperature.size\n",
    "\n",
    "print('Empirical difference of T = ', diff_fm_means)\n",
    "\n",
    "# bootstrap p-val\n",
    "bssize = 10000\n",
    "bs_reps = np.empty(bssize)\n",
    "for i in range(bssize):\n",
    "    bs_sample = np.random.choice(df.temperature, size=df.temperature.size)\n",
    "    bs_reps[i] = np.mean(bs_sample[:numm])-np.mean(bs_sample[numm:])\n",
    "    \n",
    "p = sum(bs_reps<diff_fm_means) / len(bs_reps)\n",
    "print('p-value =', p)\n",
    "\n",
    "# hist plot of the difference\n",
    "plt.hist(bs_reps, bins=25, normed=True)\n",
    "plt.axvline(diff_fm_means, color='k')\n",
    "plt.xlabel('Difference in temp [ºF]')\n",
    "plt.ylabel('Normed counts')\n",
    "plt.show()"
   ]
  },
  {
   "cell_type": "code",
   "execution_count": 16,
   "metadata": {},
   "outputs": [
    {
     "name": "stdout",
     "output_type": "stream",
     "text": [
      "p-value =  0.02393188312239561\n"
     ]
    }
   ],
   "source": [
    "# independence t-test assuming identical stdev\n",
    "print('p-value = ',stats.ttest_ind(tempm.temperature, tempf.temperature).pvalue)"
   ]
  },
  {
   "cell_type": "markdown",
   "metadata": {},
   "source": [
    "There is a strong evidence that there is a difference between M and F. Indeed, the probability that both datasets (M and F) belong to the same distribution is less than 2.5%"
   ]
  }
 ],
 "metadata": {
  "kernelspec": {
   "display_name": "Python 3",
   "language": "python",
   "name": "python3"
  },
  "language_info": {
   "codemirror_mode": {
    "name": "ipython",
    "version": 3
   },
   "file_extension": ".py",
   "mimetype": "text/x-python",
   "name": "python",
   "nbconvert_exporter": "python",
   "pygments_lexer": "ipython3",
   "version": "3.6.4"
  },
  "toc": {
   "base_numbering": 1,
   "nav_menu": {},
   "number_sections": false,
   "sideBar": false,
   "skip_h1_title": false,
   "title_cell": "Table of Contents",
   "title_sidebar": "Contents",
   "toc_cell": false,
   "toc_position": {},
   "toc_section_display": false,
   "toc_window_display": false
  }
 },
 "nbformat": 4,
 "nbformat_minor": 1
}
