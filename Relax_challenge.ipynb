{
 "cells": [
  {
   "cell_type": "markdown",
   "metadata": {},
   "source": [
    "# Relax challenge\n",
    "### Jonas Cuadrado\n",
    "\n",
    "We have two datasets, \n",
    "\n",
    "1. A user table ( \"takehome_users\" ) with data on 12,000 users who signed up for the product in the last two years.\n",
    "2. A usage summary table ( \"takehome_user_engagement\" ) that has a row for each day that a user logged into the product.\n",
    "\n",
    "Defining an \"adopted user\" as a user who has logged into the product on three separate\n",
    "days in at least one seven­day period , identify which factors predict future user\n",
    "adoption ."
   ]
  },
  {
   "cell_type": "code",
   "execution_count": 3,
   "metadata": {},
   "outputs": [],
   "source": [
    "import pandas as pd\n",
    "import numpy as np\n",
    "import matplotlib.pyplot as plt\n",
    "import seaborn as sns\n",
    "import datetime"
   ]
  },
  {
   "cell_type": "code",
   "execution_count": 4,
   "metadata": {},
   "outputs": [
    {
     "data": {
      "application/vnd.jupyter.widget-view+json": {
       "model_id": "7ebd6098846546a6a3f5d76f790e0879",
       "version_major": 2,
       "version_minor": 0
      }
     },
     "metadata": {},
     "output_type": "display_data"
    }
   ],
   "source": [
    "ue = pd.read_csv('takehome_user_engagement.csv')\n",
    "ue['time_stamp']=pd.to_datetime(ue['time_stamp'])\n",
    "ue.head()"
   ]
  },
  {
   "cell_type": "code",
   "execution_count": 5,
   "metadata": {},
   "outputs": [],
   "source": [
    "# lets find the list of users that are adopted\n",
    "\n",
    "ue_agg = ue.groupby('user_id').count()\n",
    "ue_agg=ue_agg[ue_agg['visited']>2]\n",
    "# potential adopted users: ue_agg.index\n",
    "# for each of those, I want to see if they have 3 entries within 7 days.\n",
    "\n",
    "engagedusrs = []\n",
    "for userid in list(ue_agg.index):\n",
    "    # take the data for this specific user\n",
    "    auxdf = ue[ue['user_id']==userid].reset_index()\n",
    "    # calculate time difference with 2 sessions ago\n",
    "    auxdf['td']=  auxdf.time_stamp - auxdf.time_stamp.shift(2)\n",
    "    # find if any time difference is smaller than 7 days\n",
    "    auxdf['engflag']= auxdf['td']<datetime.timedelta(days=7)\n",
    "    # if there is any true, it's an adopted user\n",
    "    if sum(auxdf['engflag'])>0:\n",
    "        engagedusrs.append(userid)\n"
   ]
  },
  {
   "cell_type": "code",
   "execution_count": 6,
   "metadata": {},
   "outputs": [
    {
     "name": "stdout",
     "output_type": "stream",
     "text": [
      "Number of engaged users: 1602\n"
     ]
    }
   ],
   "source": [
    "print('Number of engaged users:', len(engagedusrs))"
   ]
  },
  {
   "cell_type": "markdown",
   "metadata": {},
   "source": [
    "We have now found all the engaged users, and it's stored in a list. Now, we want to read the dataset that contains the users info and use it to predict the users we hove found."
   ]
  },
  {
   "cell_type": "code",
   "execution_count": 7,
   "metadata": {},
   "outputs": [
    {
     "data": {
      "application/vnd.jupyter.widget-view+json": {
       "model_id": "f8d4f47978ec48329d0d38a34332500b",
       "version_major": 2,
       "version_minor": 0
      }
     },
     "metadata": {},
     "output_type": "display_data"
    }
   ],
   "source": [
    "import chardet\n",
    "with open('takehome_users.csv', 'rb') as f:\n",
    "    result = chardet.detect(f.read())\n",
    "\n",
    "us = pd.read_csv('takehome_users.csv', encoding=result['encoding'])\n",
    "us = us.set_index('object_id')\n",
    "us['engaged']=False\n",
    "us.at[engagedusrs, 'engaged'] = True\n",
    "us.head(11)"
   ]
  },
  {
   "cell_type": "code",
   "execution_count": 8,
   "metadata": {},
   "outputs": [
    {
     "name": "stdout",
     "output_type": "stream",
     "text": [
      "<class 'pandas.core.frame.DataFrame'>\n",
      "Int64Index: 12000 entries, 1 to 12000\n",
      "Data columns (total 10 columns):\n",
      "creation_time                 12000 non-null object\n",
      "name                          12000 non-null object\n",
      "email                         12000 non-null object\n",
      "creation_source               12000 non-null object\n",
      "last_session_creation_time    8823 non-null float64\n",
      "opted_in_to_mailing_list      12000 non-null int64\n",
      "enabled_for_marketing_drip    12000 non-null int64\n",
      "org_id                        12000 non-null int64\n",
      "invited_by_user_id            6417 non-null float64\n",
      "engaged                       12000 non-null bool\n",
      "dtypes: bool(1), float64(2), int64(3), object(4)\n",
      "memory usage: 1.2+ MB\n"
     ]
    }
   ],
   "source": [
    "us.info()"
   ]
  },
  {
   "cell_type": "markdown",
   "metadata": {},
   "source": [
    "Now, let's select the parameters of interest. We note there are only about 1.600 engaged users, but 12.000 total users, so it's a rather strange phenomenon (13%). This can bias the classification model!\n",
    "\n",
    "Possible interesting parameters:\n",
    "* creation_time, selecting the time of the day (unlikely, won't be used)\n",
    "* email domain, maybe gmail users engage more (also unlinkely, but more likely than the previous)\n",
    "* creation source\n",
    "* mailing list\n",
    "* marketing drip\n",
    "* org id\n",
    "* invited by another user. That's integrated on the creation source, so will be dropped)\n",
    "\n",
    "Let's filter them and start thinking!"
   ]
  },
  {
   "cell_type": "code",
   "execution_count": 9,
   "metadata": {},
   "outputs": [
    {
     "data": {
      "application/vnd.jupyter.widget-view+json": {
       "model_id": "0b7856f81ce94308812538ac10e90a55",
       "version_major": 2,
       "version_minor": 0
      }
     },
     "metadata": {},
     "output_type": "display_data"
    }
   ],
   "source": [
    "us['emaildomain']=us['email'].str.split('@').str[1]\n",
    "df = us[['emaildomain','creation_source','opted_in_to_mailing_list','enabled_for_marketing_drip','org_id','engaged']]\n",
    "\n",
    "df.head()"
   ]
  },
  {
   "cell_type": "code",
   "execution_count": 10,
   "metadata": {},
   "outputs": [
    {
     "data": {
      "image/png": "[encoded data removed]",
      "text/plain": [
       "<matplotlib.figure.Figure at 0x7f47a53fa438>"
      ]
     },
     "metadata": {},
     "output_type": "display_data"
    },
    {
     "data": {
      "image/png": "[encoded data removed]",
      "text/plain": [
       "<matplotlib.figure.Figure at 0x7f479dc64ac8>"
      ]
     },
     "metadata": {},
     "output_type": "display_data"
    },
    {
     "data": {
      "image/png": "[encoded data removed]",
      "text/plain": [
       "<matplotlib.figure.Figure at 0x7f479dcd35c0>"
      ]
     },
     "metadata": {},
     "output_type": "display_data"
    }
   ],
   "source": [
    "plt.hist(df['creation_source'])\n",
    "plt.ylabel('Number of users')\n",
    "plt.xticks(rotation=30)\n",
    "plt.title('Creation Source')\n",
    "plt.show()\n",
    "\n",
    "plt.hist(df['opted_in_to_mailing_list'])\n",
    "plt.ylabel('Number of users')\n",
    "#plt.xticks(rotation=30)\n",
    "plt.title('In mailing list')\n",
    "plt.show()\n",
    "\n",
    "plt.hist(df['enabled_for_marketing_drip'])\n",
    "plt.ylabel('Number of users')\n",
    "#plt.xticks(rotation=30)\n",
    "plt.title('Marketing Drip')\n",
    "plt.show()"
   ]
  },
  {
   "cell_type": "code",
   "execution_count": 11,
   "metadata": {},
   "outputs": [
    {
     "name": "stdout",
     "output_type": "stream",
     "text": [
      "There are 1184 different email domains\n",
      "There are 417 different organizations\n"
     ]
    }
   ],
   "source": [
    "print('There are', len(df['emaildomain'].unique()), 'different email domains')\n",
    "print('There are', len(df['org_id'].unique()), 'different organizations')"
   ]
  },
  {
   "cell_type": "markdown",
   "metadata": {},
   "source": [
    "To decide on which algorithm to use, we need to consider two things:\n",
    "\n",
    "* All the data is discrete, there are no continuous variables. This is useful because allows for naive Bayes classifiers.\n",
    "* The data is heavily unbalanced. We either balance it by resampling or use a penalized SVM or a decision tree.\n",
    "\n",
    "We observe that the balanced SVM takes too long to run, so I discarded it and stuck with the forest.\n"
   ]
  },
  {
   "cell_type": "code",
   "execution_count": 12,
   "metadata": {},
   "outputs": [],
   "source": [
    "from sklearn.svm import SVC\n",
    "from sklearn.metrics import confusion_matrix,roc_auc_score,accuracy_score\n",
    "from sklearn.model_selection import train_test_split\n",
    "from sklearn import preprocessing"
   ]
  },
  {
   "cell_type": "code",
   "execution_count": 13,
   "metadata": {
    "scrolled": true
   },
   "outputs": [
    {
     "data": {
      "application/vnd.jupyter.widget-view+json": {
       "model_id": "6c0b22d85c924b57b4d8a29e1654eb0d",
       "version_major": 2,
       "version_minor": 0
      }
     },
     "metadata": {},
     "output_type": "display_data"
    }
   ],
   "source": [
    "dfencoded = df.copy()\n",
    "\n",
    "leemail = preprocessing.LabelEncoder()\n",
    "leemail.fit(df['emaildomain'])\n",
    "dfencoded['emaildomain']=leemail.transform(df['emaildomain'])\n",
    "\n",
    "lecs = preprocessing.LabelEncoder()\n",
    "lecs.fit(df['creation_source'])\n",
    "dfencoded['creation_source']=lecs.transform(df['creation_source'])\n",
    "\n",
    "dfencoded.head()\n"
   ]
  },
  {
   "cell_type": "code",
   "execution_count": 14,
   "metadata": {},
   "outputs": [],
   "source": [
    "X_train, X_test, y_train, y_test = train_test_split(dfencoded.drop(columns='engaged'),dfencoded['engaged'], test_size=0.2, random_state=42)"
   ]
  },
  {
   "cell_type": "markdown",
   "metadata": {},
   "source": [
    "For the random forest..."
   ]
  },
  {
   "cell_type": "code",
   "execution_count": 15,
   "metadata": {},
   "outputs": [
    {
     "name": "stdout",
     "output_type": "stream",
     "text": [
      "[False  True]\n",
      "RF accuracy: 0.80875\n",
      "RF ROC score: 0.5144559282025191\n",
      "On train data:\n",
      "TRAIN RF accuracy: 0.9401041666666666\n"
     ]
    }
   ],
   "source": [
    "from sklearn.ensemble import RandomForestClassifier\n",
    "\n",
    "clf2 = RandomForestClassifier()\n",
    "clf2.fit(X_train, y_train)\n",
    " \n",
    "y_test_pred = clf2.predict(X_test)\n",
    " \n",
    "# Is the model predicting only 1 class?\n",
    "print(np.unique(y_test_pred))\n",
    " \n",
    "\n",
    "print('RF accuracy:', accuracy_score(y_test, y_test_pred) )\n",
    " \n",
    "# What about AUROC?\n",
    "prob_y = clf2.predict_proba(X_test)\n",
    "prob_y = [p[1] for p in prob_y]\n",
    "print('RF ROC score:', roc_auc_score(y_test, prob_y) )\n",
    "\n",
    "print('On train data:')\n",
    "print('TRAIN RF accuracy:', accuracy_score(y_train, clf2.predict(X_train)) )"
   ]
  },
  {
   "cell_type": "markdown",
   "metadata": {},
   "source": [
    "The linear SVM takes very long compared to the random forest, which already performs quite well. 81% accuracy on the test partiction, but we are clearly overfitting because we achieve 94% on the training set. Still it's a rather good prediction."
   ]
  },
  {
   "cell_type": "code",
   "execution_count": 16,
   "metadata": {},
   "outputs": [],
   "source": [
    "# plot confusion matrix as in \n",
    "# http://scikit-learn.org/stable/auto_examples/model_selection/plot_confusion_matrix.html#sphx-glr-auto-examples-model-selection-plot-confusion-matrix-py\n",
    "\n",
    "import itertools\n",
    "def plot_confusion_matrix(cm, classes,\n",
    "                          normalize=False,\n",
    "                          title='Confusion matrix',\n",
    "                          cmap=plt.cm.Blues):\n",
    "    \"\"\"\n",
    "    This function prints and plots the confusion matrix.\n",
    "    Normalization can be applied by setting `normalize=True`.\n",
    "    \"\"\"\n",
    "    if normalize:\n",
    "        cm = cm.astype('float') / cm.sum(axis=1)[:, np.newaxis]\n",
    "        print(\"Normalized confusion matrix\")\n",
    "    else:\n",
    "        print('Confusion matrix, without normalization')\n",
    "\n",
    "    print(cm)\n",
    "\n",
    "    plt.imshow(cm, interpolation='nearest', cmap=cmap)\n",
    "    plt.title(title)\n",
    "    plt.colorbar()\n",
    "    tick_marks = np.arange(len(classes))\n",
    "    plt.xticks(tick_marks, classes, rotation=45)\n",
    "    plt.yticks(tick_marks, classes)\n",
    "\n",
    "    fmt = '.2f' if normalize else 'd'\n",
    "    thresh = cm.max() / 2.\n",
    "    for i, j in itertools.product(range(cm.shape[0]), range(cm.shape[1])):\n",
    "        plt.text(j, i, format(cm[i, j], fmt),\n",
    "                 horizontalalignment=\"center\",\n",
    "                 color=\"white\" if cm[i, j] > thresh else \"black\")\n",
    "\n",
    "    plt.ylabel('True label')\n",
    "    plt.xlabel('Predicted label')\n",
    "    plt.tight_layout()"
   ]
  },
  {
   "cell_type": "code",
   "execution_count": 21,
   "metadata": {},
   "outputs": [
    {
     "name": "stdout",
     "output_type": "stream",
     "text": [
      "Normalized confusion matrix\n",
      "[[0.922 0.078]\n",
      " [0.914 0.086]]\n",
      "Normalized confusion matrix\n",
      "[[0.987 0.013]\n",
      " [0.368 0.632]]\n"
     ]
    },
    {
     "data": {
      "image/png": "[encoded data removed]",
      "text/plain": [
       "<matplotlib.figure.Figure at 0x7f479731f048>"
      ]
     },
     "metadata": {},
     "output_type": "display_data"
    },
    {
     "data": {
      "image/png": "[encoded data removed]",
      "text/plain": [
       "<matplotlib.figure.Figure at 0x7f47971f65f8>"
      ]
     },
     "metadata": {},
     "output_type": "display_data"
    }
   ],
   "source": [
    "cnf_matrix = confusion_matrix(y_test, y_test_pred)\n",
    "\n",
    "np.set_printoptions(precision=3)\n",
    "plt.figure()\n",
    "plot_confusion_matrix(cnf_matrix, classes=['T','F'],normalize=True, title='Confusion matrix TEST data')\n",
    "\n",
    "cnf_matrix = confusion_matrix(y_train, clf2.predict(X_train))\n",
    "\n",
    "plt.figure()\n",
    "plot_confusion_matrix(cnf_matrix, classes=['T','F'],normalize=True, title='Confusion matrix TRAIN data')"
   ]
  },
  {
   "cell_type": "markdown",
   "metadata": {},
   "source": [
    "We observe poor perfomance on the test dataset predicting the non-adopted users, but a good rate of true positives which is what we actually are aiming for. What factors are the most significant?"
   ]
  },
  {
   "cell_type": "code",
   "execution_count": 26,
   "metadata": {},
   "outputs": [
    {
     "name": "stdout",
     "output_type": "stream",
     "text": [
      "emaildomain : 0.1837251588807234\n",
      "creation_source : 0.03873628674339412\n",
      "opted_in_to_mailing_list : 0.017380352782103987\n",
      "enabled_for_marketing_drip : 0.012324401438476764\n",
      "org_id : 0.7478338001553018\n"
     ]
    }
   ],
   "source": [
    "for ft,vl in zip(dfencoded.drop(columns='engaged').columns, clf2.feature_importances_):\n",
    "    print(ft,':', vl)"
   ]
  },
  {
   "cell_type": "markdown",
   "metadata": {},
   "source": [
    "We observe the origin id and the email domain to play a major role! This means that users working at certain companies may be more likely to remain as engaged. The email domain as well seems like it.\n",
    "\n",
    "Should we try to look at the other parameters?"
   ]
  },
  {
   "cell_type": "code",
   "execution_count": 29,
   "metadata": {},
   "outputs": [
    {
     "name": "stdout",
     "output_type": "stream",
     "text": [
      "RF accuracy: 0.8641666666666666\n",
      "RF ROC score: 0.5558632736007005\n",
      "On train data:\n",
      "TRAIN RF accuracy: 0.8670833333333333\n",
      "Normalized confusion matrix\n",
      "[[1. 0.]\n",
      " [1. 0.]]\n",
      "Normalized confusion matrix\n",
      "[[1. 0.]\n",
      " [1. 0.]]\n"
     ]
    },
    {
     "data": {
      "image/png": "[encoded data removed]",
      "text/plain": [
       "<matplotlib.figure.Figure at 0x7f4797072128>"
      ]
     },
     "metadata": {},
     "output_type": "display_data"
    },
    {
     "data": {
      "image/png": "[encoded data removed]",
      "text/plain": [
       "<matplotlib.figure.Figure at 0x7f479dbbdb70>"
      ]
     },
     "metadata": {},
     "output_type": "display_data"
    }
   ],
   "source": [
    "Xtr, Xts, ytr, yts = train_test_split(dfencoded.drop(columns=['engaged','org_id','emaildomain']),dfencoded['engaged'], test_size=0.2, random_state=42)\n",
    "\n",
    "clf3 = RandomForestClassifier()\n",
    "clf3.fit(Xtr, ytr)\n",
    " \n",
    "y_ts_pred = clf3.predict(Xts)\n",
    "\n",
    "print('RF accuracy:', accuracy_score(yts, y_ts_pred) )\n",
    " \n",
    "# What about AUROC?\n",
    "prob_y = clf3.predict_proba(Xts)\n",
    "prob_y = [p[1] for p in prob_y]\n",
    "print('RF ROC score:', roc_auc_score(yts, prob_y) )\n",
    "\n",
    "print('On train data:')\n",
    "print('TRAIN RF accuracy:', accuracy_score(ytr, clf3.predict(Xtr)) )\n",
    "\n",
    "cnf_matrix = confusion_matrix(yts, y_ts_pred)\n",
    "\n",
    "np.set_printoptions(precision=3)\n",
    "plt.figure()\n",
    "plot_confusion_matrix(cnf_matrix, classes=['T','F'],normalize=True, title='Confusion matrix TEST data')\n",
    "\n",
    "cnf_matrix = confusion_matrix(ytr, clf3.predict(Xtr))\n",
    "\n",
    "plt.figure()\n",
    "plot_confusion_matrix(cnf_matrix, classes=['T','F'],normalize=True, title='Confusion matrix TRAIN data')"
   ]
  },
  {
   "cell_type": "markdown",
   "metadata": {},
   "source": [
    "With this data is impossible to differenciate engaged users! We need the whole set as before, and using a random forest that is the best we can do. Other algorithms may perform better."
   ]
  }
 ],
 "metadata": {
  "kernelspec": {
   "display_name": "Python 3",
   "language": "python",
   "name": "python3"
  },
  "language_info": {
   "codemirror_mode": {
    "name": "ipython",
    "version": 3
   },
   "file_extension": ".py",
   "mimetype": "text/x-python",
   "name": "python",
   "nbconvert_exporter": "python",
   "pygments_lexer": "ipython3",
   "version": "3.6.4"
  },
  "toc": {
   "base_numbering": 1,
   "nav_menu": {},
   "number_sections": false,
   "sideBar": false,
   "skip_h1_title": false,
   "title_cell": "Table of Contents",
   "title_sidebar": "Contents",
   "toc_cell": false,
   "toc_position": {},
   "toc_section_display": false,
   "toc_window_display": false
  }
 },
 "nbformat": 4,
 "nbformat_minor": 2
}
